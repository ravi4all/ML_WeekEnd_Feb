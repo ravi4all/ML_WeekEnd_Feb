{
 "cells": [
  {
   "cell_type": "code",
   "execution_count": 1,
   "metadata": {
    "collapsed": true
   },
   "outputs": [],
   "source": [
    "import pandas as pd\n",
    "import numpy as np"
   ]
  },
  {
   "cell_type": "markdown",
   "metadata": {},
   "source": [
    "# Handle Missing Values"
   ]
  },
  {
   "cell_type": "code",
   "execution_count": 2,
   "metadata": {
    "collapsed": true
   },
   "outputs": [],
   "source": [
    "data_1 = [10,12,3,4,5,30,6,44]\n",
    "data_2 = [32,12,34,56,2,34,5,9]\n",
    "\n",
    "series_1 = pd.Series(data_1, index=('a','b','c','d','e','f','g','h'))\n",
    "series_2 = pd.Series(data_2, index=('c','f','g','i','j','k','l','m'))"
   ]
  },
  {
   "cell_type": "code",
   "execution_count": 3,
   "metadata": {
    "collapsed": false
   },
   "outputs": [
    {
     "data": {
      "text/plain": [
       "a     NaN\n",
       "b     NaN\n",
       "c    35.0\n",
       "d     NaN\n",
       "e     NaN\n",
       "f    42.0\n",
       "g    40.0\n",
       "h     NaN\n",
       "i     NaN\n",
       "j     NaN\n",
       "k     NaN\n",
       "l     NaN\n",
       "m     NaN\n",
       "dtype: float64"
      ]
     },
     "execution_count": 3,
     "metadata": {},
     "output_type": "execute_result"
    }
   ],
   "source": [
    "sum_of_series = series_1 + series_2\n",
    "sum_of_series"
   ]
  },
  {
   "cell_type": "code",
   "execution_count": 5,
   "metadata": {
    "collapsed": false
   },
   "outputs": [
    {
     "data": {
      "text/plain": [
       "c    35.0\n",
       "f    42.0\n",
       "g    40.0\n",
       "dtype: float64"
      ]
     },
     "execution_count": 5,
     "metadata": {},
     "output_type": "execute_result"
    }
   ],
   "source": [
    "# Dropna is user to drop the NaN columns\n",
    "drop_series = sum_of_series.dropna()\n",
    "drop_series"
   ]
  },
  {
   "cell_type": "code",
   "execution_count": 7,
   "metadata": {
    "collapsed": false
   },
   "outputs": [
    {
     "data": {
      "text/plain": [
       "a     0.0\n",
       "b     0.0\n",
       "c    35.0\n",
       "d     0.0\n",
       "e     0.0\n",
       "f    42.0\n",
       "g    40.0\n",
       "h     0.0\n",
       "i     0.0\n",
       "j     0.0\n",
       "k     0.0\n",
       "l     0.0\n",
       "m     0.0\n",
       "dtype: float64"
      ]
     },
     "execution_count": 7,
     "metadata": {},
     "output_type": "execute_result"
    }
   ],
   "source": [
    "# Fillna is used to fill the NaN values\n",
    "fill_series = sum_of_series.fillna(0)\n",
    "fill_series"
   ]
  },
  {
   "cell_type": "code",
   "execution_count": null,
   "metadata": {
    "collapsed": true
   },
   "outputs": [],
   "source": []
  }
 ],
 "metadata": {
  "kernelspec": {
   "display_name": "Python [default]",
   "language": "python",
   "name": "python3"
  },
  "language_info": {
   "codemirror_mode": {
    "name": "ipython",
    "version": 3
   },
   "file_extension": ".py",
   "mimetype": "text/x-python",
   "name": "python",
   "nbconvert_exporter": "python",
   "pygments_lexer": "ipython3",
   "version": "3.5.2"
  }
 },
 "nbformat": 4,
 "nbformat_minor": 1
}
